{
 "cells": [
  {
   "cell_type": "code",
   "execution_count": 1,
   "id": "ef91d1f6",
   "metadata": {},
   "outputs": [],
   "source": [
    "import os \n",
    "import sys"
   ]
  },
  {
   "cell_type": "code",
   "execution_count": 2,
   "id": "9086fe41",
   "metadata": {},
   "outputs": [
    {
     "data": {
      "text/plain": [
       "0.7813468849570298"
      ]
     },
     "execution_count": 2,
     "metadata": {},
     "output_type": "execute_result"
    }
   ],
   "source": [
    "import random\n",
    "random.seed(999)\n",
    "random.uniform(0, 1)"
   ]
  },
  {
   "cell_type": "code",
   "execution_count": 3,
   "id": "ffde28ea",
   "metadata": {},
   "outputs": [],
   "source": [
    "from pathlib import Path\n",
    "import numpy as np\n",
    "import matplotlib.pyplot as plt\n",
    "import librosa, librosa.display\n",
    "import resampy\n",
    "\n",
    "import soundfile as sf \n",
    "import pickle \n",
    "\n",
    "from vad import *"
   ]
  },
  {
   "cell_type": "code",
   "execution_count": 4,
   "id": "33a63af2",
   "metadata": {},
   "outputs": [],
   "source": [
    "from spectrogram import generate_log_spectrogram"
   ]
  },
  {
   "cell_type": "code",
   "execution_count": 5,
   "id": "4fd11f79",
   "metadata": {},
   "outputs": [
    {
     "name": "stdout",
     "output_type": "stream",
     "text": [
      "[0.00012519 0.00012013 0.00012783 0.00015009 0.0001558  0.00015325\n",
      " 0.00015205 0.00015739 0.00018016 0.00018845]\n",
      "44100\n",
      "[8.07522269e-05 1.52612243e-04 1.49930745e-04 1.79956849e-04\n",
      " 1.85337242e-04 1.84350326e-04 1.84456538e-04 1.81405155e-04\n",
      " 1.54161099e-04 1.54188430e-04]\n",
      "[8.0752230e-05 1.5261221e-04 1.4993075e-04 1.7995681e-04 1.8533722e-04\n",
      " 1.8435031e-04 1.8445663e-04 1.8140518e-04 1.5416119e-04 1.5418846e-04]\n",
      "16000\n"
     ]
    }
   ],
   "source": [
    "audiofile = 'giulbia-data/301 - Crying baby/1-187207-A.ogg'\n",
    "wav_data, sr = sf.read(audiofile)\n",
    "print(wav_data[:10])\n",
    "print(sr)\n",
    "wav_data = resampy.resample(wav_data, sr, 16000)\n",
    "print(wav_data[:10])\n",
    "\n",
    "'''\n",
    "wav_data1, sr1 = sf.read(audiofile,dtype='int16')\n",
    "print(wav_data1[:10])\n",
    "print(sr1)\n",
    "wav_data1 = wav_data1/32768 \n",
    "wav_data1 = resampy.resample(wav_data1, sr1, 16000)\n",
    "print(wav_data1[:10])\n",
    "'''\n",
    "\n",
    "wav_data2, sr2 = librosa.load(audiofile,sr=16000)\n",
    "print(wav_data2[:10])\n",
    "print(sr2)\n"
   ]
  },
  {
   "cell_type": "code",
   "execution_count": 6,
   "id": "84b1d235",
   "metadata": {},
   "outputs": [
    {
     "name": "stdout",
     "output_type": "stream",
     "text": [
      "giulbia-data/301 - Crying baby/1-187207-A.ogg 1-187207-A.ogg\n",
      "5.0 4.1 5.0 1\n",
      "0 0.0 True (64, 64)\n"
     ]
    },
    {
     "data": {
      "text/plain": [
       "[(array([[ 33.837833,  77.11378 ,  75.271324, ...,  95.2613  ,  58.856934,\n",
       "           28.95661 ],\n",
       "         [ 35.191074,  70.63287 ,  54.268505, ..., 102.95239 ,  60.61605 ,\n",
       "           60.874825],\n",
       "         [ 32.674988,  53.652634,  85.75292 , ...,  74.3843  ,  60.221043,\n",
       "           54.937027],\n",
       "         ...,\n",
       "         [  0.      ,  42.531986,  22.996464, ...,   0.      ,   0.      ,\n",
       "            0.      ],\n",
       "         [  0.      ,  28.943624,   8.315365, ...,   0.      ,   0.      ,\n",
       "            0.      ],\n",
       "         [  0.      ,   0.      ,   0.      , ...,   0.      ,   0.      ,\n",
       "            0.      ]], dtype=float32),\n",
       "  0,\n",
       "  True)]"
      ]
     },
     "execution_count": 6,
     "metadata": {},
     "output_type": "execute_result"
    }
   ],
   "source": [
    "generate_log_spectrogram(audiofile,'./',sr=8000,segment=4.1, pre_emphasis=None,\n",
    "                                    n_mels=64,fmin=0,fmax=None,                                     \n",
    "                                    n_fft=512, hop_length=512,debug=True,VAD=True)"
   ]
  },
  {
   "cell_type": "code",
   "execution_count": 7,
   "id": "8481be95",
   "metadata": {},
   "outputs": [],
   "source": [
    "\n",
    "train_cry_sources = ['donateacry-corpus/deepcam-cleaned/crys-5s-segments/',\n",
    "               'AudioSet/Babycry-infantcry-cleaned/babycry-5s-segments/'\n",
    "              ] \n",
    "\n",
    "train_nocry_sources = [\n",
    "                 'ESC-50/audio/',\n",
    "                 'donateacry-corpus/deepcam-cleaned/filtered-out/',\n",
    "                 'AudioSet/others_train_5s_segments/'\n",
    "                ] \n",
    "\n",
    "valid_cry_sources = ['giulbia-data/301 - Crying baby/']\n",
    "valid_nocry_sources = ['giulbia-data/901 - Silence/',\n",
    "                       'giulbia-data/902 - Noise/',\n",
    "                       'giulbia-data/903 - Baby laugh/',\n",
    "                       'AudioSet/others_valid_5s_segments/'\n",
    "                      ]\n",
    "                     \n",
    "test_cry_sources = ['ESC-50/babycry/',\n",
    "                   'AudioSet/babycry_eval_5s_segments/'\n",
    "                   ]\n",
    "\n",
    "test_nocry_sources = ['AudioSet/others_eval_5s_segments/']\n"
   ]
  },
  {
   "cell_type": "code",
   "execution_count": 8,
   "id": "84d1d9f9",
   "metadata": {},
   "outputs": [
    {
     "data": {
      "text/plain": [
       "\"\\ntrain_cry_sources = []\\n\\ntrain_nocry_sources = [\\n                ] \\n\\nvalid_cry_sources = ['giulbia-data/301 - Crying baby/']\\nvalid_nocry_sources = ['giulbia-data/901 - Silence/',\\n                       'giulbia-data/902 - Noise/',\\n                       'giulbia-data/903 - Baby laugh/'\\n                       #'AudioSet/others_valid_5s_segments/'\\n                      ]\\n                     \\ntest_cry_sources = ['ESC-50/babycry/']\\n\\ntest_nocry_sources = []\\n\""
      ]
     },
     "execution_count": 8,
     "metadata": {},
     "output_type": "execute_result"
    }
   ],
   "source": [
    "'''\n",
    "train_cry_sources = []\n",
    "\n",
    "train_nocry_sources = [\n",
    "                ] \n",
    "\n",
    "valid_cry_sources = ['giulbia-data/301 - Crying baby/']\n",
    "valid_nocry_sources = ['giulbia-data/901 - Silence/',\n",
    "                       'giulbia-data/902 - Noise/',\n",
    "                       'giulbia-data/903 - Baby laugh/'\n",
    "                       #'AudioSet/others_valid_5s_segments/'\n",
    "                      ]\n",
    "                     \n",
    "test_cry_sources = ['ESC-50/babycry/']\n",
    "\n",
    "test_nocry_sources = []\n",
    "'''"
   ]
  },
  {
   "cell_type": "code",
   "execution_count": 9,
   "id": "cfb68286",
   "metadata": {},
   "outputs": [],
   "source": [
    "dataset = 'dataset' \n",
    "\n",
    "train_cry_folder = dataset + '/train/cry/'  \n",
    "train_nocry_folder = dataset + '/train/nocry/'  \n",
    "\n",
    "valid_cry_folder = dataset + '/valid/cry/'  \n",
    "valid_nocry_folder = dataset + '/valid/nocry/'  \n",
    "\n",
    "test_cry_folder = dataset + '/test/cry/'  \n",
    "test_nocry_folder = dataset + '/test/nocry/'  \n",
    "\n",
    "if not os.path.exists(train_cry_folder):\n",
    "    os.makedirs(train_cry_folder)\n",
    "if not os.path.exists(train_nocry_folder):\n",
    "    os.makedirs(train_nocry_folder)\n",
    "if not os.path.exists(valid_cry_folder):\n",
    "    os.makedirs(valid_cry_folder)\n",
    "if not os.path.exists(valid_nocry_folder):\n",
    "    os.makedirs(valid_nocry_folder)\n",
    "if not os.path.exists(test_cry_folder):\n",
    "    os.makedirs(test_cry_folder)\n",
    "if not os.path.exists(test_nocry_folder):\n",
    "    os.makedirs(test_nocry_folder)\n",
    "\n",
    "    "
   ]
  },
  {
   "cell_type": "code",
   "execution_count": 10,
   "id": "58076401",
   "metadata": {},
   "outputs": [],
   "source": [
    "cry_sources = [] \n",
    "cry_sources.append(train_cry_sources)\n",
    "cry_sources.append(valid_cry_sources)\n",
    "cry_sources.append(test_cry_sources)\n",
    "\n",
    "noncry_sources = [] \n",
    "noncry_sources.append(train_nocry_sources)\n",
    "noncry_sources.append(valid_nocry_sources)\n",
    "noncry_sources.append(test_nocry_sources)\n",
    "\n",
    "\n",
    "dataset = {\"train\": {\"cry\":[], \"nocry\":[] },\n",
    "           \"valid\": {\"cry\":[], \"nocry\":[] },\n",
    "           \"test\": {\"cry\":[], \"nocry\":[] }           \n",
    "          }\n"
   ]
  },
  {
   "cell_type": "code",
   "execution_count": 11,
   "id": "36d158ef",
   "metadata": {},
   "outputs": [],
   "source": [
    "sr=8000; segment=4.1; pre_emphasis=None\n",
    "n_mels=64; fmin=0; fmax=None\n",
    "n_fft=512; hop_length=512\n",
    "VAD_on = True \n"
   ]
  },
  {
   "cell_type": "code",
   "execution_count": null,
   "id": "7eeba4c4",
   "metadata": {},
   "outputs": [
    {
     "name": "stdout",
     "output_type": "stream",
     "text": [
      "Reading audio file donateacry-corpus/deepcam-cleaned/crys-5s-segments/crys-5s-segments.zip has error\n",
      "Reading audio file donateacry-corpus/deepcam-cleaned/crys-5s-segments/40a4c760-facf-4911-b0a6-22eccc3ab18d-1430477691332-1.7-f-26-hu.3gp_176_0.wav has error\n"
     ]
    }
   ],
   "source": [
    "for i in range(len(cry_sources)):\n",
    "    source = cry_sources[i]    \n",
    "    for s in source:\n",
    "                \n",
    "        files = os.listdir(s) \n",
    "        for f in files:\n",
    "            \n",
    "            r = random.uniform(0, 1)\n",
    "            \n",
    "            if r<0.8:\n",
    "                dest = train_cry_folder\n",
    "                dest_d = dataset[\"train\"][\"cry\"]\n",
    "            elif r<0.9:\n",
    "                dest = valid_cry_folder\n",
    "                dest_d = dataset[\"valid\"][\"cry\"]\n",
    "            else:\n",
    "                dest = test_cry_folder\n",
    "                dest_d = dataset[\"test\"][\"cry\"]\n",
    "                \n",
    "            #print(s+f,dest)               \n",
    "            melgrams = generate_log_spectrogram(s+f,dest,sr=sr,segment=segment,pre_emphasis=pre_emphasis,\n",
    "                                    n_mels=n_mels,fmin=fmin,fmax=fmax,                                     \n",
    "                                    n_fft=n_fft, hop_length=hop_length,VAD=VAD_on,debug=False)\n",
    "            if len(melgrams)>0:\n",
    "                dest_d.append((s+f,melgrams))\n"
   ]
  },
  {
   "cell_type": "code",
   "execution_count": 14,
   "id": "19bb2c56",
   "metadata": {},
   "outputs": [
    {
     "name": "stdout",
     "output_type": "stream",
     "text": [
      "Reading audio file donateacry-corpus/deepcam-cleaned/filtered-out/F15D825B-F861-410B-ACC9-9863C8949217-1427012060-1.0-m-04-ti.caf has error\n",
      "Reading audio file donateacry-corpus/deepcam-cleaned/filtered-out/F15D825B-F861-410B-ACC9-9863C8949217-1427012073-1.0-m-04-ti.caf has error\n",
      "Reading audio file donateacry-corpus/deepcam-cleaned/filtered-out/01a592eb-513d-4431-b7ba-b0fba5a00908-1430339263195-1.7-m-04-hu.3gp has error\n",
      "Reading audio file donateacry-corpus/deepcam-cleaned/filtered-out/F15D825B-F861-410B-ACC9-9863C8949217-1427012078-1.0-m-04-ti.caf has error\n",
      "Reading audio file donateacry-corpus/deepcam-cleaned/filtered-out/c8fa621d-f18e-485d-9b23-c44fadb6e1d3-1430724173566-1.7-m-04-hu.3gp has error\n",
      "Reading audio file donateacry-corpus/deepcam-cleaned/filtered-out/F15D825B-F861-410B-ACC9-9863C8949217-1427012192-1.0-m-04-ti.caf has error\n",
      "Reading audio file donateacry-corpus/deepcam-cleaned/filtered-out/F15D825B-F861-410B-ACC9-9863C8949217-1427012070-1.0-m-04-ti.caf has error\n",
      "Reading audio file donateacry-corpus/deepcam-cleaned/filtered-out/F15D825B-F861-410B-ACC9-9863C8949217-1427012195-1.0-m-04-ti.caf has error\n",
      "Reading audio file donateacry-corpus/deepcam-cleaned/filtered-out/F15D825B-F861-410B-ACC9-9863C8949217-1427012079-1.0-m-04-ti.caf has error\n",
      "Reading audio file donateacry-corpus/deepcam-cleaned/filtered-out/F15D825B-F861-410B-ACC9-9863C8949217-1427012197-1.0-m-04-ti.caf has error\n",
      "Reading audio file donateacry-corpus/deepcam-cleaned/filtered-out/F15D825B-F861-410B-ACC9-9863C8949217-1427012076-1.0-m-04-ti.caf has error\n",
      "AudioSet/others_train_5s_segments/snipped_640_start_0.0_end_10.0.wav_0_0.wav snipped_640_start_0.0_end_10.0.wav_0_0.wav\n",
      "[[0. 0. 0. ... 0. 0. 0.]\n",
      " [0. 0. 0. ... 0. 0. 0.]\n",
      " [0. 0. 0. ... 0. 0. 0.]\n",
      " ...\n",
      " [0. 0. 0. ... 0. 0. 0.]\n",
      " [0. 0. 0. ... 0. 0. 0.]\n",
      " [0. 0. 0. ... 0. 0. 0.]]\n",
      "Reading audio file AudioSet/others_train_5s_segments/snipped_1375114_start_0.0_end_4.0.wav_0_0.wav has error\n",
      "AudioSet/others_train_5s_segments/snipped_19366_start_30.0_end_40.0.wav_0_0.wav snipped_19366_start_30.0_end_40.0.wav_0_0.wav\n",
      "[[0. 0. 0. ... 0. 0. 0.]\n",
      " [0. 0. 0. ... 0. 0. 0.]\n",
      " [0. 0. 0. ... 0. 0. 0.]\n",
      " ...\n",
      " [0. 0. 0. ... 0. 0. 0.]\n",
      " [0. 0. 0. ... 0. 0. 0.]\n",
      " [0. 0. 0. ... 0. 0. 0.]]\n",
      "Reading audio file AudioSet/others_train_5s_segments/snipped_17619_start_0.0_end_3.0.wav_0_0.wav has error\n",
      "Reading audio file AudioSet/others_valid_5s_segments/snipped_1375114_start_0.0_end_4.0.wav_0_0.wav has error\n",
      "AudioSet/others_valid_5s_segments/snipped_8322_start_0.0_end_10.0.wav_0_0.wav snipped_8322_start_0.0_end_10.0.wav_0_0.wav\n",
      "[[0. 0. 0. ... 0. 0. 0.]\n",
      " [0. 0. 0. ... 0. 0. 0.]\n",
      " [0. 0. 0. ... 0. 0. 0.]\n",
      " ...\n",
      " [0. 0. 0. ... 0. 0. 0.]\n",
      " [0. 0. 0. ... 0. 0. 0.]\n",
      " [0. 0. 0. ... 0. 0. 0.]]\n",
      "Reading audio file AudioSet/others_valid_5s_segments/snipped_19417_start_0.0_end_4.0.wav_0_0.wav has error\n",
      "AudioSet/others_eval_5s_segments/snipped_5916_start_0.0_end_10.0.wav_0_0.wav snipped_5916_start_0.0_end_10.0.wav_0_0.wav\n",
      "[[0. 0. 0. ... 0. 0. 0.]\n",
      " [0. 0. 0. ... 0. 0. 0.]\n",
      " [0. 0. 0. ... 0. 0. 0.]\n",
      " ...\n",
      " [0. 0. 0. ... 0. 0. 0.]\n",
      " [0. 0. 0. ... 0. 0. 0.]\n",
      " [0. 0. 0. ... 0. 0. 0.]]\n",
      "AudioSet/others_eval_5s_segments/snipped_19814_start_120.0_end_130.0.wav_0_0.wav snipped_19814_start_120.0_end_130.0.wav_0_0.wav\n",
      "[[0. 0. 0. ... 0. 0. 0.]\n",
      " [0. 0. 0. ... 0. 0. 0.]\n",
      " [0. 0. 0. ... 0. 0. 0.]\n",
      " ...\n",
      " [0. 0. 0. ... 0. 0. 0.]\n",
      " [0. 0. 0. ... 0. 0. 0.]\n",
      " [0. 0. 0. ... 0. 0. 0.]]\n",
      "Reading audio file AudioSet/others_eval_5s_segments/snipped_11355_start_0.0_end_3.0.wav_0_0.wav has error\n"
     ]
    }
   ],
   "source": [
    "for i in range(len(noncry_sources)):\n",
    "    source = noncry_sources[i]    \n",
    "    for s in source:\n",
    "                \n",
    "        files = os.listdir(s) \n",
    "        for f in files:\n",
    "            \n",
    "            r = random.uniform(0, 1)\n",
    "            \n",
    "            if r<0.8:\n",
    "                dest = train_nocry_folder\n",
    "                dest_d = dataset[\"train\"][\"nocry\"]\n",
    "            elif r<0.9:\n",
    "                dest = valid_nocry_folder\n",
    "                dest_d = dataset[\"valid\"][\"nocry\"]\n",
    "            else:\n",
    "                dest = test_nocry_folder\n",
    "                dest_d = dataset[\"test\"][\"nocry\"]\n",
    "                \n",
    "            #print(s+f,dest)               \n",
    "            melgrams = generate_log_spectrogram(s+f,dest,sr=sr,segment=segment,pre_emphasis=pre_emphasis,\n",
    "                                    n_mels=n_mels,fmin=fmin,fmax=fmax,                                     \n",
    "                                    n_fft=n_fft, hop_length=hop_length,VAD=VAD_on,debug=False)\n",
    "            if len(melgrams)>0:\n",
    "                dest_d.append((s+f,melgrams))"
   ]
  },
  {
   "cell_type": "code",
   "execution_count": 22,
   "id": "ce51424c",
   "metadata": {},
   "outputs": [
    {
     "name": "stdout",
     "output_type": "stream",
     "text": [
      "dataset/trainset_8000_4.1_None_64_0_None_512_512.pk\n"
     ]
    }
   ],
   "source": [
    "dataset_file = 'dataset/trainset_{}_{}_{}_{}_{}_{}_{}_{}.pk'.format(\n",
    "    sr,segment,pre_emphasis,n_mels,fmin,fmax,n_fft,hop_length) \n",
    "\n",
    "print(dataset_file)\n",
    "with open(dataset_file , 'wb') as pk_file:\n",
    "                pickle.dump(dataset, pk_file)"
   ]
  },
  {
   "cell_type": "code",
   "execution_count": 16,
   "id": "8c76b3b0",
   "metadata": {},
   "outputs": [
    {
     "name": "stdout",
     "output_type": "stream",
     "text": [
      "['7376bd92-3ccd-4672-bf08-2bb5dd992b30.mp3', 'E062904F3842_subjectawake_1637580472817.mp3', 'E062904F3842_subjectawake_1637717631593.mp3', 'E062906A5A6D_subjectawake_1638712785921.mp3', '146B9CB78294_subjectawake_1620198310758.mp3', 'E06290646B49_subjectAsleep_1638305984190.mp3', 'E06290637154_breathingStopped_1637525474363.mp3', 'E06290634162_subjectawake_1638677765467.mp3', '146B9CB78A18_subjectawake_1620132682993.mp3', '146B9C6FA25A_monitoringOff_1619739616502.mp3']\n"
     ]
    }
   ],
   "source": [
    "test_dir = 'Self/10Cry/'\n",
    "audiofiles = os.listdir(test_dir) \n",
    "audiofiles = [x for x in audiofiles if x.endswith('mp3')]\n",
    "print(audiofiles)"
   ]
  },
  {
   "cell_type": "code",
   "execution_count": 17,
   "id": "9e8178f2",
   "metadata": {},
   "outputs": [],
   "source": [
    "#audiofiles = ['E06290646B49_subjectAsleep_1638305984190.mp3']"
   ]
  },
  {
   "cell_type": "code",
   "execution_count": 18,
   "id": "915dcc36",
   "metadata": {},
   "outputs": [
    {
     "name": "stdout",
     "output_type": "stream",
     "text": [
      "Self/10Cry/7376bd92-3ccd-4672-bf08-2bb5dd992b30.mp3\n",
      "38 (64, 64)\n",
      "Self/10Cry/E062904F3842_subjectawake_1637580472817.mp3\n",
      "60 (64, 64)\n",
      "Self/10Cry/E062904F3842_subjectawake_1637717631593.mp3\n",
      "61 (64, 64)\n",
      "Self/10Cry/E062906A5A6D_subjectawake_1638712785921.mp3\n",
      "62 (64, 64)\n",
      "Self/10Cry/146B9CB78294_subjectawake_1620198310758.mp3\n",
      "48 (64, 64)\n",
      "Self/10Cry/E06290646B49_subjectAsleep_1638305984190.mp3\n",
      "66 (64, 64)\n",
      "Self/10Cry/E06290637154_breathingStopped_1637525474363.mp3\n",
      "63 (64, 64)\n",
      "Self/10Cry/E06290634162_subjectawake_1638677765467.mp3\n",
      "62 (64, 64)\n",
      "Self/10Cry/146B9CB78A18_subjectawake_1620132682993.mp3\n",
      "59 (64, 64)\n",
      "Self/10Cry/146B9C6FA25A_monitoringOff_1619739616502.mp3\n",
      "34 (64, 64)\n"
     ]
    }
   ],
   "source": [
    "test_data = {\"test\":{\"cry\":[],\"noncry\":[]}\n",
    "            }\n",
    "\n",
    "for f in audiofiles:\n",
    "    f_full = test_dir+f     \n",
    "    print(f_full)\n",
    "    melgrams = generate_log_spectrogram(f_full,None,sr=sr,duration=None,segment=segment,pre_emphasis=pre_emphasis,\n",
    "                                    n_mels=n_mels,fmin=fmin,fmax=fmax,                                     \n",
    "                                    n_fft=n_fft, hop_length=hop_length)\n",
    "    \n",
    "    if len(melgrams)>0:\n",
    "        print(len(melgrams),melgrams[0][0].shape)\n",
    "        test_data[\"test\"][\"cry\"].append((f_full,melgrams))\n"
   ]
  },
  {
   "cell_type": "code",
   "execution_count": 19,
   "id": "609b9803",
   "metadata": {},
   "outputs": [
    {
     "name": "stdout",
     "output_type": "stream",
     "text": [
      "dataset/testset_8000_4.1_None_64_0_None_512_512.pk\n"
     ]
    }
   ],
   "source": [
    "dataset_file = 'dataset/testset_{}_{}_{}_{}_{}_{}_{}_{}.pk'.format(\n",
    "    sr,segment,pre_emphasis,n_mels,fmin,fmax,n_fft,hop_length) \n",
    "\n",
    "print(dataset_file)\n",
    "with open(dataset_file , 'wb') as pk_file:\n",
    "    pickle.dump(test_data, pk_file)        "
   ]
  },
  {
   "cell_type": "code",
   "execution_count": 20,
   "id": "d101fc9e",
   "metadata": {},
   "outputs": [
    {
     "data": {
      "text/plain": [
       "'\\ndataset_file = \\'dataset/testset_8000_5_None_64_0_None_256_128.pk\\'\\nwith open(dataset_file, \\'rb\\') as pk_file:\\n    data = pickle.load(pk_file)\\n    \\nfor d in data:\\n    test_data[\"test\"][\"cry\"].append((d[0],d[1]))\\n'"
      ]
     },
     "execution_count": 20,
     "metadata": {},
     "output_type": "execute_result"
    }
   ],
   "source": [
    "'''\n",
    "dataset_file = 'dataset/testset_8000_5_None_64_0_None_256_128.pk'\n",
    "with open(dataset_file, 'rb') as pk_file:\n",
    "    data = pickle.load(pk_file)\n",
    "    \n",
    "for d in data:\n",
    "    test_data[\"test\"][\"cry\"].append((d[0],d[1]))\n",
    "'''    "
   ]
  }
 ],
 "metadata": {
  "kernelspec": {
   "display_name": "Python [conda env:baby_cry] *",
   "language": "python",
   "name": "conda-env-baby_cry-py"
  },
  "language_info": {
   "codemirror_mode": {
    "name": "ipython",
    "version": 3
   },
   "file_extension": ".py",
   "mimetype": "text/x-python",
   "name": "python",
   "nbconvert_exporter": "python",
   "pygments_lexer": "ipython3",
   "version": "3.7.11"
  }
 },
 "nbformat": 4,
 "nbformat_minor": 5
}
